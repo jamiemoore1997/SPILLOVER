{
 "cells": [
  {
   "cell_type": "code",
   "execution_count": 1,
   "metadata": {},
   "outputs": [],
   "source": [
    "import math\n",
    "import numpy as py\n",
    "import pandas as pd\n",
    "from sklearn.preprocessing import MinMaxScaler\n",
    "from keras.models import Sequential \n",
    "from keras.layers import Dense, LSTM\n",
    "import matplotlib.pyplot as pl\n"
   ]
  },
  {
   "cell_type": "code",
   "execution_count": 2,
   "metadata": {},
   "outputs": [],
   "source": [
    "pd.set_option('display.max_columns',10)\n",
    "pd.set_option('display.max_rows',10)\n",
    "df=pd.read_csv('Downloads/BANK DATA.csv')\n",
    "df=df.loc[:3368,:'SUN.AX']"
   ]
  },
  {
   "cell_type": "code",
   "execution_count": 3,
   "metadata": {},
   "outputs": [],
   "source": [
    "data=df['AMP.AX']\n",
    "modeldata=data.values\n",
    "train_len=math.ceil(len(modeldata)*0.8)\n",
    "pre_train_set=modeldata.reshape(-1,1)[:train_len,:]\n",
    "pre_test_set=modeldata.reshape(-1,1)[train_len-60:,:]"
   ]
  },
  {
   "cell_type": "code",
   "execution_count": 4,
   "metadata": {},
   "outputs": [],
   "source": [
    "scaler=MinMaxScaler(feature_range=(0,1))\n",
    "train_set=scaler.fit_transform(pre_train_set)\n",
    "test_set=scaler.fit_transform(pre_test_set)"
   ]
  },
  {
   "cell_type": "code",
   "execution_count": 5,
   "metadata": {},
   "outputs": [
    {
     "name": "stdout",
     "output_type": "stream",
     "text": [
      "[array([0.91814757, 0.94814321, 0.95130044, 0.93867118, 0.94024949,\n",
      "       0.94340672, 0.94814321, 0.93077715, 0.93393502, 0.89604598,\n",
      "       0.85815725, 0.84237044, 0.84394875, 0.80921758, 0.82342577,\n",
      "       0.78237949, 0.71449514, 0.72238917, 0.74606907, 0.72238917,\n",
      "       0.58346323, 0.66397684, 0.67818503, 0.78080088, 0.76659237,\n",
      "       0.73501875, 0.69870801, 0.71449514, 0.71765269, 0.68765706,\n",
      "       0.66713408, 0.64976865, 0.64976865, 0.64187461, 0.67818503,\n",
      "       0.60082866, 0.5960928 , 0.56925472, 0.58819908, 0.63871769,\n",
      "       0.57714844, 0.59451418, 0.56451855, 0.5960928 , 0.63556014,\n",
      "       0.69239354, 0.63240259, 0.64345323, 0.57022877, 0.5262941 ,\n",
      "       0.50676758, 0.51815805, 0.49537711, 0.49863153, 0.497004  ,\n",
      "       0.55395699, 0.48724106, 0.5083951 , 0.48561385, 0.53442984])]\n",
      "[0.5930100327272131]\n",
      "\n"
     ]
    }
   ],
   "source": [
    "x_train=[]\n",
    "y_train=[]\n",
    "\n",
    "for i in range(60,train_len):\n",
    "    x_train.append(train_set[i-60:i,0])\n",
    "    y_train.append(train_set[i,0 ])\n",
    "    if i<=60:\n",
    "        print(x_train)\n",
    "        print(y_train)\n",
    "        print()\n",
    "x_train,y_train=py.array(x_train),py.array(y_train)\n",
    "#LSTM requires to have 3D input\n",
    "x_train=py.reshape(x_train,(x_train.shape[0],x_train.shape[1],1))"
   ]
  },
  {
   "cell_type": "code",
   "execution_count": 6,
   "metadata": {},
   "outputs": [],
   "source": [
    "model=Sequential()\n",
    "model.add(LSTM(50,return_sequences=True,input_shape=(x_train.shape[1],1)))\n",
    "model.add(LSTM(50,return_sequences=False))\n",
    "model.add(Dense(25))\n",
    "model.add(Dense(1))\n",
    "model.compile(optimizer='adam',loss='MSE')"
   ]
  },
  {
   "cell_type": "code",
   "execution_count": 7,
   "metadata": {},
   "outputs": [
    {
     "name": "stdout",
     "output_type": "stream",
     "text": [
      "Epoch 1/30\n",
      "132/132 [==============================] - 10s 44ms/step - loss: 0.0729\n",
      "Epoch 2/30\n",
      "132/132 [==============================] - 6s 42ms/step - loss: 0.0020\n",
      "Epoch 3/30\n",
      "132/132 [==============================] - 7s 51ms/step - loss: 0.0018\n",
      "Epoch 4/30\n",
      "132/132 [==============================] - 5s 40ms/step - loss: 0.0016\n",
      "Epoch 5/30\n",
      "132/132 [==============================] - 5s 41ms/step - loss: 0.0013\n",
      "Epoch 6/30\n",
      "132/132 [==============================] - 7s 57ms/step - loss: 0.0013\n",
      "Epoch 7/30\n",
      "132/132 [==============================] - 7s 53ms/step - loss: 0.0011\n",
      "Epoch 8/30\n",
      "132/132 [==============================] - 7s 50ms/step - loss: 0.0010\n",
      "Epoch 9/30\n",
      "132/132 [==============================] - 6s 45ms/step - loss: 8.8749e-04\n",
      "Epoch 10/30\n",
      "132/132 [==============================] - 6s 46ms/step - loss: 9.0265e-04\n",
      "Epoch 11/30\n",
      "132/132 [==============================] - 6s 49ms/step - loss: 6.9449e-04\n",
      "Epoch 12/30\n",
      "132/132 [==============================] - 6s 47ms/step - loss: 5.9781e-04\n",
      "Epoch 13/30\n",
      "132/132 [==============================] - 6s 48ms/step - loss: 5.9192e-04\n",
      "Epoch 14/30\n",
      "132/132 [==============================] - 6s 45ms/step - loss: 5.6549e-04\n",
      "Epoch 15/30\n",
      "132/132 [==============================] - 6s 44ms/step - loss: 5.6014e-04\n",
      "Epoch 16/30\n",
      "132/132 [==============================] - 6s 48ms/step - loss: 6.0452e-04\n",
      "Epoch 17/30\n",
      "132/132 [==============================] - 6s 46ms/step - loss: 4.8246e-04\n",
      "Epoch 18/30\n",
      "132/132 [==============================] - 6s 45ms/step - loss: 4.6609e-04\n",
      "Epoch 19/30\n",
      "132/132 [==============================] - 7s 50ms/step - loss: 4.6969e-04\n",
      "Epoch 20/30\n",
      "132/132 [==============================] - 6s 45ms/step - loss: 4.9074e-04\n",
      "Epoch 21/30\n",
      "132/132 [==============================] - 6s 47ms/step - loss: 4.7408e-04\n",
      "Epoch 22/30\n",
      "132/132 [==============================] - 6s 48ms/step - loss: 4.3773e-04\n",
      "Epoch 23/30\n",
      "132/132 [==============================] - 8s 60ms/step - loss: 4.6840e-04\n",
      "Epoch 24/30\n",
      "132/132 [==============================] - 6s 44ms/step - loss: 4.7660e-04\n",
      "Epoch 25/30\n",
      "132/132 [==============================] - 6s 42ms/step - loss: 4.2574e-04\n",
      "Epoch 26/30\n",
      "132/132 [==============================] - 6s 45ms/step - loss: 4.1935e-04\n",
      "Epoch 27/30\n",
      "132/132 [==============================] - 7s 50ms/step - loss: 3.8902e-04\n",
      "Epoch 28/30\n",
      "132/132 [==============================] - 7s 50ms/step - loss: 4.0447e-04\n",
      "Epoch 29/30\n",
      "132/132 [==============================] - 6s 48ms/step - loss: 3.9679e-04\n",
      "Epoch 30/30\n",
      "132/132 [==============================] - 6s 45ms/step - loss: 4.4539e-04\n"
     ]
    },
    {
     "data": {
      "text/plain": [
       "<tensorflow.python.keras.callbacks.History at 0x11dfcf9c8b0>"
      ]
     },
     "execution_count": 7,
     "metadata": {},
     "output_type": "execute_result"
    }
   ],
   "source": [
    "model.fit(x_train,y_train, batch_size=20, epochs=30)\n"
   ]
  },
  {
   "cell_type": "code",
   "execution_count": 8,
   "metadata": {},
   "outputs": [
    {
     "data": {
      "text/plain": [
       "array([[3.1251926, 3.1451268, 3.1269438, 3.0893514, 3.0891209, 3.136498 ,\n",
       "        3.1211615, 3.0829856, 3.0728772, 3.083247 , 3.0666227, 3.0569627,\n",
       "        3.048012 , 3.0299704, 3.0386202, 2.985318 , 2.8926554, 2.9000115,\n",
       "        2.95842  , 2.9177825, 2.939608 , 2.9672148, 2.975843 , 2.9379992,\n",
       "        2.9344094, 2.9442124, 2.9008396, 2.9431663, 2.8851333, 2.800547 ,\n",
       "        2.815787 , 2.839221 , 2.8507924, 2.8503737, 2.821985 , 2.8187988,\n",
       "        2.819085 , 2.8192785, 2.828016 , 2.8813362, 2.9814708, 2.9324663,\n",
       "        2.9849503, 2.9528542, 3.020158 , 3.0524762, 2.3214214, 2.1919618,\n",
       "        2.1839595, 2.1588857, 2.2905102, 2.4574885, 2.5186028, 2.5519648,\n",
       "        2.517057 , 2.451517 , 2.4062889, 2.4530897, 2.3894908, 2.3300476,\n",
       "        2.3168807, 2.336639 , 2.3844686, 2.392759 , 2.3164647, 2.2281296,\n",
       "        2.232225 , 2.2717118, 2.2247984, 2.2461822, 2.1879122, 2.247054 ,\n",
       "        2.254095 , 2.300575 , 2.2754319, 2.2502074, 2.2291825, 2.1625025,\n",
       "        2.111666 , 2.098201 , 2.1473358, 2.1300032, 2.1549573, 2.1842213,\n",
       "        2.1883554, 2.2097495, 2.2046227, 2.153533 , 2.1579618, 2.2336252,\n",
       "        2.267382 , 2.2698524, 2.2585328, 2.27893  , 2.2429528, 2.3076568,\n",
       "        2.3800287, 2.3741505, 2.367502 , 2.348459 , 2.3370934, 2.3697777,\n",
       "        2.3691823, 2.4177263, 2.45923  , 2.4296296, 2.429764 , 2.3970575,\n",
       "        2.3508816, 2.181812 , 2.125432 , 2.1096919, 2.098027 , 2.083339 ,\n",
       "        2.0580046, 2.2238183, 2.248377 , 2.2888176, 2.2659166, 2.238712 ,\n",
       "        2.2402763, 2.2502403, 2.101488 , 2.0176191, 1.9857783, 2.0402586,\n",
       "        2.0984037, 2.181253 , 2.188167 , 2.2046535, 2.1880898, 2.2214723,\n",
       "        2.2205324, 2.2425444, 2.25512  , 2.2156878, 2.2232392, 2.2276073,\n",
       "        2.1806018, 2.1957166, 2.1700547, 2.116763 , 2.1310647, 2.154307 ,\n",
       "        2.1518316, 2.1496348, 2.1004994, 2.065172 , 2.0675557, 2.03213  ,\n",
       "        2.0087678, 1.9977392, 1.9740524, 1.9766347, 2.0096967, 2.0418172,\n",
       "        2.0942075, 2.0962768, 2.052052 , 2.0155947, 2.0395846, 2.072688 ,\n",
       "        2.0809965, 2.0966837, 2.091562 , 2.0887804, 2.1116767, 2.141302 ,\n",
       "        2.1470237, 2.201923 , 2.1893117, 2.1502028, 2.1333706, 2.1643252,\n",
       "        2.1258047, 2.1083992, 2.083281 , 2.063743 , 2.0537148, 2.076844 ,\n",
       "        2.0916958, 2.0860093, 2.0436   , 2.0403805, 2.088801 , 2.0783238,\n",
       "        2.1275184, 2.1392298, 2.090458 , 2.0611603, 2.0411122, 2.04697  ,\n",
       "        2.066792 , 2.064721 , 2.0553236, 2.0448966, 2.0193708, 1.998189 ,\n",
       "        1.9946572, 1.9881454, 2.002591 , 2.0533779, 2.0659225, 2.1038291,\n",
       "        2.0093555, 1.9667724, 1.9610336, 1.9490546, 1.9481238, 1.9497801,\n",
       "        1.9433609, 1.9189503, 1.9420885, 1.9654915, 1.9933978, 2.0141132,\n",
       "        2.008974 , 2.035466 , 2.0419703, 2.0414534, 2.0248888, 2.0128078,\n",
       "        2.0111277, 2.0123594, 2.0213745, 1.7690419, 1.6806339, 1.6827424,\n",
       "        1.6808803, 1.6939089, 1.6896791, 1.663026 , 1.6889989, 1.7237688,\n",
       "        1.7235743, 1.7258593, 1.7249157, 1.6959243, 1.7018516, 1.7201134,\n",
       "        1.723608 , 1.658972 , 1.6315202, 1.6265029, 1.7632543, 1.7703263,\n",
       "        1.7261738, 1.7655691, 1.7333951, 1.6574594, 1.6624013, 1.6848689,\n",
       "        1.6546788, 1.6289402, 1.5888346, 1.5532545, 1.5586675, 1.5555841,\n",
       "        1.5705241, 1.5932566, 1.575616 , 1.5431966, 1.5489386, 1.5605812,\n",
       "        1.620005 , 1.677483 , 1.7016847, 1.7483261, 1.7445768, 1.7477584,\n",
       "        1.7270812, 1.7260274, 1.7209051, 1.7478081, 1.7485539, 1.7576854,\n",
       "        1.7573472, 1.7148954, 1.6827636, 1.6882483, 1.7110533, 1.7202652,\n",
       "        1.6844862, 1.6432203, 1.6103951, 1.6048198, 1.5837004, 1.5321164,\n",
       "        1.509963 , 1.5147192, 1.5572884, 1.5795443, 1.6008334, 1.6064184,\n",
       "        1.6313046, 1.6530122, 1.6853247, 1.6885303, 1.6994678, 1.7332269,\n",
       "        1.7275838, 1.7292628, 1.7162064, 1.721818 , 1.7426786, 1.7401617,\n",
       "        1.7343881, 1.7741243, 1.8173383, 1.8327934, 1.8550932, 1.8598763,\n",
       "        1.8514248, 1.8476254, 1.8870181, 1.8710556, 1.8927147, 1.8490912,\n",
       "        1.841506 , 1.8388113, 1.8468453, 1.8035058, 1.8144301, 1.8322315,\n",
       "        1.8416291, 1.8432558, 1.7885785, 1.7419832, 1.7512386, 1.7417005,\n",
       "        1.770424 , 1.7887566, 1.7892835, 1.7659471, 1.8133936, 1.8420122,\n",
       "        1.8261606, 1.8068274, 1.7971399, 1.7954898, 1.7963516, 1.783259 ,\n",
       "        1.8004915, 1.8076898, 1.80551  , 1.8039608, 1.8068795, 1.8007418,\n",
       "        1.7913164, 1.7603422, 1.7472494, 1.7630075, 1.7634099, 1.7803825,\n",
       "        1.8037949, 1.8316058, 1.8240533, 1.8075488, 1.7732447, 1.7664188,\n",
       "        1.7462687, 1.7479216, 1.736992 , 1.7337604, 1.7268592, 1.7214293,\n",
       "        1.6689256, 1.65701  , 1.6602894, 1.6668807, 1.652961 , 1.6337332,\n",
       "        1.6403099, 1.698061 , 1.7137059, 1.7209253, 1.7655206, 1.8509023,\n",
       "        1.9421016, 1.9411148, 1.9376222, 1.8633574, 1.8188941, 1.7471924,\n",
       "        1.6781423, 1.599047 , 1.5751774, 1.5747155, 1.5534064, 1.5551375,\n",
       "        1.5138087, 1.4000117, 1.3843275, 1.3675218, 1.3181984, 1.3444688,\n",
       "        1.2907124, 1.3320723, 1.3196145, 1.2820379, 1.257183 , 1.1635371,\n",
       "        1.1010165, 1.0882543, 1.1324291, 1.1814358, 1.2390009, 1.2672074,\n",
       "        1.3134791, 1.2924105, 1.2124634, 1.2032644, 1.2127192, 1.2310265,\n",
       "        1.239132 , 1.3089651, 1.3436773, 1.3591772, 1.3755739, 1.3341912,\n",
       "        1.3019595, 1.2603095, 1.2371262, 1.2326219, 1.2493385, 1.2555063,\n",
       "        1.2676445, 1.3209195, 1.3040738, 1.300839 , 1.3184277, 1.3201885,\n",
       "        1.3055458, 1.3211068, 1.3394748, 1.3369396, 1.3441956, 1.3289617,\n",
       "        1.3499707, 1.3602172, 1.3858097, 1.4120688, 1.4484588, 1.4572779,\n",
       "        1.4685658, 1.4930552, 1.5366904, 1.5823734, 1.5566193, 1.5681511,\n",
       "        1.6098878, 1.6499157, 1.6792374, 1.6865778, 1.6992434, 1.7265161,\n",
       "        1.6742327, 1.6257678, 1.5887797, 1.6384563, 1.6440661, 1.6467426,\n",
       "        1.653618 , 1.6623155, 1.7596451, 1.7580615, 1.6963319, 1.7297424,\n",
       "        1.7224549, 1.7385613, 1.7659829, 1.7643077, 1.7299557, 1.7106099,\n",
       "        1.7099377, 1.6781273, 1.6573483, 1.6261309, 1.6365474, 1.6441258,\n",
       "        1.6536306, 1.6533052, 1.6585116, 1.646636 , 1.6509923, 1.64008  ,\n",
       "        1.6386814, 1.6192505, 1.6118342, 1.5977205, 1.5931205, 1.5864269,\n",
       "        1.450467 , 1.3951255, 1.3736061, 1.3568426, 1.3636726, 1.3531611,\n",
       "        1.3363659, 1.3202511, 1.3132275, 1.393585 , 1.4556919, 1.4396718,\n",
       "        1.405484 , 1.3769177, 1.3601341, 1.3524424, 1.3595895, 1.3818547,\n",
       "        1.3989234, 1.4110074, 1.4205594, 1.4379628, 1.4509118, 1.4997162,\n",
       "        1.5491586, 1.5476495, 1.5157728, 1.4881974, 1.4486035, 1.4637766,\n",
       "        1.458167 , 1.4584316, 1.4300684, 1.4256812, 1.4353359, 1.4253412,\n",
       "        1.3950053, 1.3780205, 1.3757522, 1.3738755, 1.3675742, 1.3706353,\n",
       "        1.3698748, 1.3424212, 1.3516825, 1.3477033, 1.3716003, 1.369612 ,\n",
       "        1.3747697, 1.3771499, 1.4109416, 1.4278975, 1.4355247, 1.4273324,\n",
       "        1.4249859, 1.4306375, 1.4558265, 1.4614244, 1.4583057, 1.4057733,\n",
       "        1.377974 , 1.3638512, 1.3341423, 1.3244498, 1.3088965, 1.4519644,\n",
       "        1.6324693, 1.6902415, 1.6943622, 1.6872609, 1.7014134, 1.713268 ,\n",
       "        1.7056247, 1.7204878, 1.73489  , 1.7474502, 1.75522  , 1.7461798,\n",
       "        1.7499444, 1.7522529, 1.7309196, 1.7234144, 1.7337617, 1.7424264,\n",
       "        1.7450731, 1.7526168, 1.7324623, 1.7391567, 1.7690359, 1.7383082,\n",
       "        1.7322922, 1.746908 , 1.7530187, 1.7542522, 1.7539936, 1.734965 ,\n",
       "        1.7503932, 1.7500687, 1.7378981, 1.7446223, 1.7183964, 1.6505632,\n",
       "        1.6209949, 1.5983797, 1.6040308, 1.6095505, 1.6086156, 1.5869211,\n",
       "        1.5776885, 1.5583224, 1.5748351, 1.6147444, 1.6267917, 1.6204969,\n",
       "        1.6225852, 1.6022288, 1.5935133, 1.5814232, 1.567469 , 1.5666826,\n",
       "        1.5682123, 1.5763059, 1.5730166, 1.5674518, 1.5482417, 1.5038534,\n",
       "        1.496357 , 1.5074695, 1.5208268, 1.5529175, 1.5523664, 1.578794 ,\n",
       "        1.5791161, 1.5523113, 1.5501512, 1.4398324, 1.3623806, 1.3489902,\n",
       "        1.3641436, 1.3877133, 1.3810896, 1.3750471, 1.3628969, 1.3716656,\n",
       "        1.3862064, 1.4047303, 1.477776 , 1.4798824, 1.4655452, 1.4630395,\n",
       "        1.4403856, 1.4268893, 1.43562  , 1.4642506, 1.474777 , 1.4578176,\n",
       "        1.4451574, 1.4595498, 1.4711955, 1.4532467, 1.4371834, 1.4280219,\n",
       "        1.4286594, 1.4179122, 1.4068042, 1.3721797, 1.3624301, 1.334801 ,\n",
       "        1.3136649, 1.2945602, 1.3214988, 1.3016186, 1.2797276, 1.2891616,\n",
       "        1.2857865, 1.2829967, 1.2705199, 1.2582598, 1.2473229, 1.2265606,\n",
       "        1.2109197]], dtype=float32)"
      ]
     },
     "execution_count": 8,
     "metadata": {},
     "output_type": "execute_result"
    }
   ],
   "source": [
    "x_test=[]\n",
    "y_test=modeldata.reshape(-1,1)[train_len:,:]\n",
    "for i in range(60, len(test_set)):\n",
    "    x_test.append(test_set[i-60:i,0])\n",
    "x_test=py.array(x_test)\n",
    "x_test=py.reshape(x_test,(x_test.shape[0],x_test.shape[1],1))\n",
    "predictions=model.predict(x_test)\n",
    "predictions=scaler.inverse_transform(predictions)\n",
    "predictions.reshape(1,-1)"
   ]
  },
  {
   "cell_type": "code",
   "execution_count": 9,
   "metadata": {},
   "outputs": [
    {
     "data": {
      "text/plain": [
       "0.05820938992086323"
      ]
     },
     "execution_count": 9,
     "metadata": {},
     "output_type": "execute_result"
    }
   ],
   "source": [
    "#RMSE\n",
    "rmse=py.sqrt(py.mean(((predictions- y_test)**2)))\n",
    "rmse"
   ]
  },
  {
   "cell_type": "code",
   "execution_count": 10,
   "metadata": {},
   "outputs": [
    {
     "data": {
      "image/png": "[encoded data removed]",
      "text/plain": [
       "<Figure size 1152x576 with 1 Axes>"
      ]
     },
     "metadata": {
      "needs_background": "light"
     },
     "output_type": "display_data"
    }
   ],
   "source": [
    "train=pd.DataFrame(data[:train_len])\n",
    "valid=pd.DataFrame(data[train_len:])\n",
    "#valid=valid.reset_index()\n",
    "#train=train.reset_index()\n",
    "valid['Prediction']=predictions\n",
    "pl.figure(figsize=(16,8))\n",
    "pl.plot(train['AMP.AX'])\n",
    "pl.plot(valid['AMP.AX'])\n",
    "pl.plot(valid['Prediction'])\n",
    "pl.show()"
   ]
  },
  {
   "cell_type": "code",
   "execution_count": 12,
   "metadata": {},
   "outputs": [
    {
     "name": "stdout",
     "output_type": "stream",
     "text": [
      "WARNING:tensorflow:Model was constructed with shape (None, 60, 1) for input KerasTensor(type_spec=TensorSpec(shape=(None, 60, 1), dtype=tf.float32, name='lstm_input'), name='lstm_input', description=\"created by layer 'lstm_input'\"), but it was called on an input with incompatible shape (None, 1, 1).\n"
     ]
    }
   ],
   "source": [
    "y_test=py.array(y_test)\n",
    "y_test=py.reshape(y_test,(y_test.shape[0],y_test.shape[1],1))\n",
    "forecast=model.predict(y_test)"
   ]
  }
 ],
 "metadata": {
  "kernelspec": {
   "display_name": "Python 3",
   "language": "python",
   "name": "python3"
  },
  "language_info": {
   "codemirror_mode": {
    "name": "ipython",
    "version": 3
   },
   "file_extension": ".py",
   "mimetype": "text/x-python",
   "name": "python",
   "nbconvert_exporter": "python",
   "pygments_lexer": "ipython3",
   "version": "3.8.5"
  }
 },
 "nbformat": 4,
 "nbformat_minor": 4
}
